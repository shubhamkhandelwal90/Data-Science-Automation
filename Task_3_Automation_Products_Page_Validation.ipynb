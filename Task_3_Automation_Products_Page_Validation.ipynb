{
 "cells": [
  {
   "cell_type": "code",
   "execution_count": 1,
   "metadata": {},
   "outputs": [
    {
     "name": "stdout",
     "output_type": "stream",
     "text": [
      "Successfull...\n"
     ]
    }
   ],
   "source": [
    "import urllib.request\n",
    "import pandas\n",
    "from bs4 import BeautifulSoup as bs\n",
    "import warnings\n",
    "warnings.filterwarnings('ignore')\n",
    "\n",
    "def get_all_pages():\n",
    "    \"returns list of all pages link\"\n",
    "\n",
    "    url = \"https://yoshops.com/products?page=\"\n",
    "    all_pages = [url + str(i) for i in range(0, 12)]\n",
    "    return all_pages\n",
    "\n",
    "\n",
    "def find_missing_img_product(links):\n",
    "    \"it will return dict of missing image Product name and url \"\n",
    "\n",
    "    data = {\"Product Name\": list(), \"Product URL\": list()}\n",
    "    base_url = 'https://yoshops.com'\n",
    "    for url in links:\n",
    "        web = urllib.request.urlopen(url)\n",
    "        html = web.read()\n",
    "        soup = bs(html, 'html.parser')\n",
    "        products = soup.find_all(\"div\", {\"class\": \"product\"})\n",
    "        for i in range(len(products)):\n",
    "            if products[i].a.img[\n",
    "                'src'] == \"//onlinestore.wsimg.com/assets/noimage/product-5fec99477aebb10bac85d82665ec1497de4536cda3279e59089555c45cf589fa.png\":\n",
    "                data['Product Name'].append(products[i].a.span.text)\n",
    "                data['Product URL'].append(base_url + str(products[i].a['href']))\n",
    "    return data\n",
    "\n",
    "\n",
    "def save_file(data, file_name):\n",
    "    df = pandas.DataFrame(data)\n",
    "    df.to_csv(file_name, index=False)\n",
    "\n",
    "\n",
    "if __name__ == \"__main__\":\n",
    "    # step 1\n",
    "    all_pages = get_all_pages()\n",
    "    # step 2\n",
    "    data = find_missing_img_product(all_pages)\n",
    "    # step 3\n",
    "    save_file(data, \"Product_With_Missing_Image.csv\")\n",
    "    print(\"Successfull...\")"
   ]
  },
  {
   "cell_type": "code",
   "execution_count": null,
   "metadata": {},
   "outputs": [],
   "source": []
  }
 ],
 "metadata": {
  "kernelspec": {
   "display_name": "Python 3",
   "language": "python",
   "name": "python3"
  },
  "language_info": {
   "codemirror_mode": {
    "name": "ipython",
    "version": 3
   },
   "file_extension": ".py",
   "mimetype": "text/x-python",
   "name": "python",
   "nbconvert_exporter": "python",
   "pygments_lexer": "ipython3",
   "version": "3.8.3"
  }
 },
 "nbformat": 4,
 "nbformat_minor": 4
}
